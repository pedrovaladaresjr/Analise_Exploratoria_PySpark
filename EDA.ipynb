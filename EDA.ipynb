{
 "cells": [
  {
   "cell_type": "markdown",
   "id": "1cf9f708-6fe6-4e21-b2fb-814d63d5da3a",
   "metadata": {},
   "source": [
    "# Extração das Transações do Bitcoin e Análise com PySpark"
   ]
  },
  {
   "cell_type": "code",
   "execution_count": 1,
   "id": "6d30a5e4-1377-48e3-952d-480103c9574e",
   "metadata": {},
   "outputs": [
    {
     "name": "stdout",
     "output_type": "stream",
     "text": [
      "Requirement already satisfied: yfinance in /home/pedrovaladares/.pyenv/versions/3.13.1/lib/python3.13/site-packages (0.2.51)\n",
      "Requirement already satisfied: pandas>=1.3.0 in /home/pedrovaladares/.pyenv/versions/3.13.1/lib/python3.13/site-packages (from yfinance) (2.2.3)\n",
      "Requirement already satisfied: numpy>=1.16.5 in /home/pedrovaladares/.pyenv/versions/3.13.1/lib/python3.13/site-packages (from yfinance) (2.2.0)\n",
      "Requirement already satisfied: requests>=2.31 in /home/pedrovaladares/.pyenv/versions/3.13.1/lib/python3.13/site-packages (from yfinance) (2.32.3)\n",
      "Requirement already satisfied: multitasking>=0.0.7 in /home/pedrovaladares/.pyenv/versions/3.13.1/lib/python3.13/site-packages (from yfinance) (0.0.11)\n",
      "Requirement already satisfied: lxml>=4.9.1 in /home/pedrovaladares/.pyenv/versions/3.13.1/lib/python3.13/site-packages (from yfinance) (5.3.0)\n",
      "Requirement already satisfied: platformdirs>=2.0.0 in /home/pedrovaladares/.pyenv/versions/3.13.1/lib/python3.13/site-packages (from yfinance) (4.3.6)\n",
      "Requirement already satisfied: pytz>=2022.5 in /home/pedrovaladares/.pyenv/versions/3.13.1/lib/python3.13/site-packages (from yfinance) (2024.2)\n",
      "Requirement already satisfied: frozendict>=2.3.4 in /home/pedrovaladares/.pyenv/versions/3.13.1/lib/python3.13/site-packages (from yfinance) (2.4.6)\n",
      "Requirement already satisfied: peewee>=3.16.2 in /home/pedrovaladares/.pyenv/versions/3.13.1/lib/python3.13/site-packages (from yfinance) (3.17.8)\n",
      "Requirement already satisfied: beautifulsoup4>=4.11.1 in /home/pedrovaladares/.pyenv/versions/3.13.1/lib/python3.13/site-packages (from yfinance) (4.12.3)\n",
      "Requirement already satisfied: html5lib>=1.1 in /home/pedrovaladares/.pyenv/versions/3.13.1/lib/python3.13/site-packages (from yfinance) (1.1)\n",
      "Requirement already satisfied: soupsieve>1.2 in /home/pedrovaladares/.pyenv/versions/3.13.1/lib/python3.13/site-packages (from beautifulsoup4>=4.11.1->yfinance) (2.6)\n",
      "Requirement already satisfied: six>=1.9 in /home/pedrovaladares/.pyenv/versions/3.13.1/lib/python3.13/site-packages (from html5lib>=1.1->yfinance) (1.17.0)\n",
      "Requirement already satisfied: webencodings in /home/pedrovaladares/.pyenv/versions/3.13.1/lib/python3.13/site-packages (from html5lib>=1.1->yfinance) (0.5.1)\n",
      "Requirement already satisfied: python-dateutil>=2.8.2 in /home/pedrovaladares/.pyenv/versions/3.13.1/lib/python3.13/site-packages (from pandas>=1.3.0->yfinance) (2.9.0.post0)\n",
      "Requirement already satisfied: tzdata>=2022.7 in /home/pedrovaladares/.pyenv/versions/3.13.1/lib/python3.13/site-packages (from pandas>=1.3.0->yfinance) (2024.2)\n",
      "Requirement already satisfied: charset-normalizer<4,>=2 in /home/pedrovaladares/.pyenv/versions/3.13.1/lib/python3.13/site-packages (from requests>=2.31->yfinance) (3.4.0)\n",
      "Requirement already satisfied: idna<4,>=2.5 in /home/pedrovaladares/.pyenv/versions/3.13.1/lib/python3.13/site-packages (from requests>=2.31->yfinance) (3.10)\n",
      "Requirement already satisfied: urllib3<3,>=1.21.1 in /home/pedrovaladares/.pyenv/versions/3.13.1/lib/python3.13/site-packages (from requests>=2.31->yfinance) (2.2.3)\n",
      "Requirement already satisfied: certifi>=2017.4.17 in /home/pedrovaladares/.pyenv/versions/3.13.1/lib/python3.13/site-packages (from requests>=2.31->yfinance) (2024.12.14)\n"
     ]
    }
   ],
   "source": [
    "# https://pypi.org/project/findspark/\n",
    "!pip install -q findspark\n",
    "!pip install yfinance"
   ]
  },
  {
   "cell_type": "code",
   "execution_count": 1,
   "id": "0e281f88-d97e-4f22-88c7-506ebe345347",
   "metadata": {},
   "outputs": [],
   "source": [
    "# Importa o findspark e inicializa\n",
    "import findspark\n",
    "findspark.init()"
   ]
  },
  {
   "cell_type": "code",
   "execution_count": 32,
   "id": "6b8fe281-1cc3-48b1-a066-83c063ea7e2b",
   "metadata": {},
   "outputs": [],
   "source": [
    "# Imports\n",
    "import pyspark                        \n",
    "import pandas as pd                                            # manipulação de dados\n",
    "import numpy as np                                             # manipulação de dados\n",
    "import seaborn as sns                                          # gráficos\n",
    "from matplotlib import pyplot as plt                           # gráficos\n",
    "from pyspark import SparkConf, SparkContext\n",
    "from pyspark.sql import SparkSession, SQLContext\n",
    "from pyspark.sql.types import *\n",
    "from pyspark.sql.functions import *\n",
    "from pyspark.ml.linalg import Vectors\n",
    "from pyspark.ml.feature import StringIndexer\n",
    "from pyspark.ml.regression import LinearRegression\n",
    "from pyspark.mllib.evaluation import RegressionMetrics\n",
    "from pyspark.ml.linalg import Vectors\n",
    "from pyspark.ml.feature import StringIndexer\n",
    "from pyspark.ml.stat import Correlation\n",
    "from pyspark.ml.feature import MinMaxScaler\n",
    "from pyspark.ml.feature import VectorAssembler\n",
    "from pyspark.ml import Pipeline\n",
    "from pyspark.ml.tuning import ParamGridBuilder, CrossValidator, CrossValidatorModel\n",
    "from pyspark.ml.feature import VectorAssembler, StandardScaler\n",
    "from pyspark.ml.evaluation import RegressionEvaluator\n",
    "\n",
    "# Para extrair os dados da criptomoeda\n",
    "import yfinance as yf\n",
    "from datetime import datetime"
   ]
  },
  {
   "cell_type": "code",
   "execution_count": 33,
   "id": "76cdde59-09e1-4b42-b62e-6b116b034b1a",
   "metadata": {},
   "outputs": [
    {
     "name": "stderr",
     "output_type": "stream",
     "text": [
      "[*********************100%***********************]  1 of 1 completed"
     ]
    },
    {
     "name": "stdout",
     "output_type": "stream",
     "text": [
      "Price            Close        High         Low        Open    Volume\n",
      "Ticker         BTC-USD     BTC-USD     BTC-USD     BTC-USD   BTC-USD\n",
      "Date                                                                \n",
      "2014-09-17  457.334015  468.174011  452.421997  465.864014  21056800\n",
      "2014-09-18  424.440002  456.859985  413.104004  456.859985  34483200\n",
      "2014-09-19  394.795990  427.834991  384.532013  424.102997  37919700\n",
      "2014-09-20  408.903992  423.295990  389.882996  394.673004  36863600\n",
      "2014-09-21  398.821014  412.425995  393.181000  408.084991  26580100\n"
     ]
    },
    {
     "name": "stderr",
     "output_type": "stream",
     "text": [
      "\n"
     ]
    }
   ],
   "source": [
    "# Definir o símbolo do Bitcoin no Yahoo Finance (BTC-USD)\n",
    "symbol = \"BTC-USD\"\n",
    "\n",
    "# Definir o intervalo de datas (exemplo: 2017-01-01 até 2023-12-31)\n",
    "start_date = \"2014-09-01\"\n",
    "end_date = datetime.now().strftime(\"%Y-%m-%d\")  \n",
    "\n",
    "# Obter os dados históricos\n",
    "data = yf.download(symbol, start = start_date, end = end_date)\n",
    "\n",
    "# Exibir as primeiras linhas do DataFrame\n",
    "print(data.head())\n",
    "\n",
    "# Salvar os dados em um arquivo CSV\n",
    "data.to_csv(\"dados/bitcoin_historico_yfinance.csv\")\n"
   ]
  },
  {
   "cell_type": "code",
   "execution_count": 5,
   "id": "25cc15b5-6ed8-4e09-8494-5c7227c03b8a",
   "metadata": {},
   "outputs": [],
   "source": [
    "# Formatação das saídas\n",
    "pd.set_option('display.max_columns', 200)\n",
    "pd.set_option('display.max_colwidth', 400)\n",
    "from matplotlib.axes._axes import _log as matplotlib_axes_logger\n",
    "matplotlib_axes_logger.setLevel('ERROR')"
   ]
  },
  {
   "cell_type": "code",
   "execution_count": 6,
   "id": "1e3ce8df-2e56-4bf7-b61b-dfcb5fab0708",
   "metadata": {},
   "outputs": [
    {
     "name": "stdout",
     "output_type": "stream",
     "text": [
      "Author: Pedro Valadares Júnior\n",
      "\n",
      "matplotlib: 3.10.0\n",
      "py4j      : 0.10.9.7\n",
      "seaborn   : 0.13.2\n",
      "numpy     : 2.2.0\n",
      "pandas    : 2.2.3\n",
      "decimal   : 1.70\n",
      "sys       : 3.13.1 (main, Dec 15 2024, 14:06:39) [GCC 12.2.0]\n",
      "findspark : 2.0.1\n",
      "pyspark   : 3.5.0\n",
      "yfinance  : 0.2.51\n",
      "\n"
     ]
    }
   ],
   "source": [
    "# Versões dos pacotes usados neste jupyter notebook\n",
    "%reload_ext watermark\n",
    "%watermark -a \"Pedro Valadares Júnior\" --iversions"
   ]
  },
  {
   "cell_type": "code",
   "execution_count": 7,
   "id": "5786a3aa-bd49-41d8-bb28-b26bfb4a9292",
   "metadata": {},
   "outputs": [],
   "source": [
    "# Definindo semente aleatória (seed) para reprodutibilidade do notebook\n",
    "rnd_seed = 23\n",
    "np.random.seed = rnd_seed\n",
    "np.random.set_state = rnd_seed"
   ]
  },
  {
   "cell_type": "code",
   "execution_count": 8,
   "id": "c9df3c62-147e-48d4-8469-1a0217f3a5a3",
   "metadata": {},
   "outputs": [
    {
     "name": "stderr",
     "output_type": "stream",
     "text": [
      "25/01/01 22:33:12 WARN Utils: Your hostname, debian resolves to a loopback address: 127.0.1.1; using 192.168.15.62 instead (on interface wlp1s0)\n",
      "25/01/01 22:33:12 WARN Utils: Set SPARK_LOCAL_IP if you need to bind to another address\n",
      "Setting default log level to \"WARN\".\n",
      "To adjust logging level use sc.setLogLevel(newLevel). For SparkR, use setLogLevel(newLevel).\n",
      "25/01/01 22:33:13 WARN NativeCodeLoader: Unable to load native-hadoop library for your platform... using builtin-java classes where applicable\n"
     ]
    }
   ],
   "source": [
    "# Criando o Spark Context(em Spark, tudo que crio é um App)\n",
    "\n",
    "sc = SparkContext(appName = 'Estudo_PySpark')\n",
    "\n",
    "\n",
    "# O código abaixo abre uma conexão para o meu cluster. Observe que não identificamos o \n",
    "# cluster, quando não identificamos, ele cria automaticamente no cluster local(minha máquina)."
   ]
  },
  {
   "cell_type": "code",
   "execution_count": 9,
   "id": "7c57d94e-0a00-4211-adf9-a46a104083dd",
   "metadata": {},
   "outputs": [],
   "source": [
    "spark_session = SparkSession.Builder().getOrCreate()"
   ]
  },
  {
   "cell_type": "code",
   "execution_count": 10,
   "id": "cfb87dff-94bc-498b-afcf-43a20ee08222",
   "metadata": {},
   "outputs": [
    {
     "data": {
      "text/html": [
       "\n",
       "            <div>\n",
       "                <p><b>SparkSession - in-memory</b></p>\n",
       "                \n",
       "        <div>\n",
       "            <p><b>SparkContext</b></p>\n",
       "\n",
       "            <p><a href=\"http://192.168.15.62:4040\">Spark UI</a></p>\n",
       "\n",
       "            <dl>\n",
       "              <dt>Version</dt>\n",
       "                <dd><code>v3.5.0</code></dd>\n",
       "              <dt>Master</dt>\n",
       "                <dd><code>local[*]</code></dd>\n",
       "              <dt>AppName</dt>\n",
       "                <dd><code>Estudo_PySpark</code></dd>\n",
       "            </dl>\n",
       "        </div>\n",
       "        \n",
       "            </div>\n",
       "        "
      ],
      "text/plain": [
       "<pyspark.sql.session.SparkSession at 0x7f86542c52b0>"
      ]
     },
     "execution_count": 10,
     "metadata": {},
     "output_type": "execute_result"
    }
   ],
   "source": [
    "spark_session"
   ]
  },
  {
   "cell_type": "markdown",
   "id": "598e1626-525b-42d0-a07a-f2ca20c22123",
   "metadata": {},
   "source": [
    "### LOADING"
   ]
  },
  {
   "cell_type": "code",
   "execution_count": 11,
   "id": "c1c1a9ab-2c0e-48f1-9c51-0c63f5082053",
   "metadata": {},
   "outputs": [],
   "source": [
    "df_spark = spark_session.read.csv('dados/bitcoin_historico_yfinance.csv', header = 'true', inferSchema = 'true')"
   ]
  },
  {
   "cell_type": "code",
   "execution_count": 12,
   "id": "169513b4-bb3c-41b4-9f7c-3685887e08c5",
   "metadata": {},
   "outputs": [
    {
     "name": "stdout",
     "output_type": "stream",
     "text": [
      "+----------+------------------+------------------+------------------+------------------+--------+\n",
      "|     Price|             Close|              High|               Low|              Open|  Volume|\n",
      "+----------+------------------+------------------+------------------+------------------+--------+\n",
      "|    Ticker|           BTC-USD|           BTC-USD|           BTC-USD|           BTC-USD| BTC-USD|\n",
      "|      Date|              NULL|              NULL|              NULL|              NULL|    NULL|\n",
      "|2014-09-17| 457.3340148925781|468.17401123046875| 452.4219970703125|  465.864013671875|21056800|\n",
      "|2014-09-18|424.44000244140625| 456.8599853515625|   413.10400390625| 456.8599853515625|34483200|\n",
      "|2014-09-19| 394.7959899902344| 427.8349914550781| 384.5320129394531| 424.1029968261719|37919700|\n",
      "|2014-09-20|408.90399169921875| 423.2959899902344|389.88299560546875| 394.6730041503906|36863600|\n",
      "|2014-09-21| 398.8210144042969| 412.4259948730469| 393.1809997558594| 408.0849914550781|26580100|\n",
      "|2014-09-22| 402.1520080566406| 406.9159851074219| 397.1300048828125| 399.1000061035156|24127600|\n",
      "|2014-09-23| 435.7909851074219| 441.5570068359375| 396.1969909667969| 402.0920104980469|45099500|\n",
      "|2014-09-24| 423.2049865722656|436.11199951171875| 421.1319885253906| 435.7510070800781|30627700|\n",
      "|2014-09-25| 411.5740051269531| 423.5199890136719| 409.4679870605469|  423.156005859375|26814400|\n",
      "|2014-09-26|404.42498779296875|   414.93798828125| 400.0090026855469| 411.4289855957031|21460800|\n",
      "|2014-09-27| 399.5199890136719|406.62298583984375|397.37200927734375| 403.5559997558594|15029300|\n",
      "|2014-09-28| 377.1809997558594| 401.0169982910156| 374.3320007324219|399.47100830078125|23613300|\n",
      "|2014-09-29| 375.4670104980469|385.21099853515625|  372.239990234375| 376.9280090332031|32497700|\n",
      "|2014-09-30| 386.9440002441406|390.97698974609375| 373.4429931640625| 376.0880126953125|34707300|\n",
      "|2014-10-01|  383.614990234375| 391.3789978027344| 380.7799987792969|  387.427001953125|26229400|\n",
      "|2014-10-02| 375.0719909667969|385.49700927734375| 372.9460144042969| 383.9880065917969|21777700|\n",
      "|2014-10-03| 359.5119934082031|377.69500732421875| 357.8590087890625| 375.1809997558594|30901200|\n",
      "|2014-10-04| 328.8659973144531|364.48699951171875|  325.885986328125| 359.8919982910156|47236500|\n",
      "+----------+------------------+------------------+------------------+------------------+--------+\n",
      "only showing top 20 rows\n",
      "\n"
     ]
    }
   ],
   "source": [
    "# Exibe as primeiras linhas\n",
    "df_spark.show()"
   ]
  },
  {
   "cell_type": "code",
   "execution_count": 13,
   "id": "ed79a28a-a782-486a-a70d-df2e38390998",
   "metadata": {},
   "outputs": [
    {
     "name": "stdout",
     "output_type": "stream",
     "text": [
      "root\n",
      " |-- Price: string (nullable = true)\n",
      " |-- Close: string (nullable = true)\n",
      " |-- High: string (nullable = true)\n",
      " |-- Low: string (nullable = true)\n",
      " |-- Open: string (nullable = true)\n",
      " |-- Volume: string (nullable = true)\n",
      "\n"
     ]
    }
   ],
   "source": [
    "# Retorna o tipo de cada coluna\n",
    "df_spark.printSchema()"
   ]
  },
  {
   "cell_type": "code",
   "execution_count": 14,
   "id": "d0d1484e-777f-4c3e-9687-ab66481dce1e",
   "metadata": {},
   "outputs": [
    {
     "name": "stderr",
     "output_type": "stream",
     "text": [
      "25/01/01 22:33:57 WARN SparkStringUtils: Truncated the string representation of a plan since it was too large. This behavior can be adjusted by setting 'spark.sql.debug.maxToStringFields'.\n",
      "[Stage 3:>                                                          (0 + 1) / 1]"
     ]
    },
    {
     "name": "stdout",
     "output_type": "stream",
     "text": [
      "+-------+----------+------------------+------------------+------------------+-----------------+--------------------+\n",
      "|summary|     Price|             Close|              High|               Low|             Open|              Volume|\n",
      "+-------+----------+------------------+------------------+------------------+-----------------+--------------------+\n",
      "|  count|      3761|              3760|              3760|              3760|             3760|                3760|\n",
      "|   mean|      NULL|19585.858209697766|20003.126694951487|19103.286843728372|19562.39062133042|1.858298119511146...|\n",
      "| stddev|      NULL|22126.525736753556|22584.216017278886| 21597.38067931596|  22097.867871999|2.034322712413484...|\n",
      "|    min|2014-09-17|    100041.5390625|1002.0999755859375|  10000.7080078125|   100046.6484375|         10014858959|\n",
      "|    max|    Ticker|           BTC-USD|           BTC-USD|           BTC-USD|          BTC-USD|             BTC-USD|\n",
      "+-------+----------+------------------+------------------+------------------+-----------------+--------------------+\n",
      "\n"
     ]
    },
    {
     "name": "stderr",
     "output_type": "stream",
     "text": [
      "                                                                                "
     ]
    }
   ],
   "source": [
    "# Exibe um sumário estatístico\n",
    "df_spark.describe().show()"
   ]
  },
  {
   "cell_type": "code",
   "execution_count": 15,
   "id": "4dbd106f-c467-4b07-add1-01f68708609d",
   "metadata": {},
   "outputs": [
    {
     "name": "stdout",
     "output_type": "stream",
     "text": [
      "Total de linhas: 3761\n"
     ]
    }
   ],
   "source": [
    "# Contando as linhas\n",
    "linhas = df_spark.count()\n",
    "print(f'Total de linhas: {linhas}')"
   ]
  },
  {
   "cell_type": "code",
   "execution_count": 16,
   "id": "77a2c4ba-0b3c-4157-bebc-39ba49a34263",
   "metadata": {},
   "outputs": [
    {
     "data": {
      "text/plain": [
       "['Price', 'Close', 'High', 'Low', 'Open', 'Volume']"
      ]
     },
     "execution_count": 16,
     "metadata": {},
     "output_type": "execute_result"
    }
   ],
   "source": [
    "# Retornando os nomes das colunas do dataset\n",
    "df_spark.columns"
   ]
  },
  {
   "cell_type": "markdown",
   "id": "b7c5a20a-0792-4c45-9e02-d40dcdaa8523",
   "metadata": {},
   "source": [
    "### DATA CLEANING"
   ]
  },
  {
   "cell_type": "code",
   "execution_count": 17,
   "id": "a920e5e0-a495-4fb2-a02a-96b011e6b3d7",
   "metadata": {},
   "outputs": [],
   "source": [
    "# Excluindo valores nulos\n",
    "df_spark = df_spark.na.drop()"
   ]
  },
  {
   "cell_type": "code",
   "execution_count": 18,
   "id": "42126adf-388e-4cfd-a40f-c34356e02991",
   "metadata": {},
   "outputs": [
    {
     "name": "stdout",
     "output_type": "stream",
     "text": [
      "+-----+-----+----+---+----+------+\n",
      "|Price|Close|High|Low|Open|Volume|\n",
      "+-----+-----+----+---+----+------+\n",
      "|    0|    0|   0|  0|   0|     0|\n",
      "+-----+-----+----+---+----+------+\n",
      "\n"
     ]
    }
   ],
   "source": [
    "# Checando se os valore nulos foram excluidos\n",
    "null_counts = df_spark.select(\n",
    "    \n",
    "    [sum(col(c).isNull().cast(\"int\")).alias(c) for c in df_spark.columns]\n",
    ")\n",
    "\n",
    "null_counts.show()\n",
    "\n",
    "# c representa o nome de cada coluna de df_spark\n",
    "# col() é uma função pyspark que cria referência para a coluna com o nome c\n",
    "# col(c).isNull() verifica se a coluna contém nulos ou não. (booleano)\n",
    "# cast(\"int\") converte o boleano em um número inteiro (0 ou 1)\n",
    "# sum() soma todos os valores para cada coluna, que agora são 1 ou 0.\n",
    "# alias(c) ao resultado da soma usa o nome da coluna atual(original)"
   ]
  },
  {
   "cell_type": "code",
   "execution_count": 19,
   "id": "53f37e95-e339-44fa-bc45-d47b6ae1d386",
   "metadata": {},
   "outputs": [
    {
     "name": "stdout",
     "output_type": "stream",
     "text": [
      "root\n",
      " |-- Price: string (nullable = true)\n",
      " |-- Close: string (nullable = true)\n",
      " |-- High: string (nullable = true)\n",
      " |-- Low: string (nullable = true)\n",
      " |-- Open: string (nullable = true)\n",
      " |-- Volume: string (nullable = true)\n",
      "\n"
     ]
    }
   ],
   "source": [
    "df_spark.printSchema()"
   ]
  },
  {
   "cell_type": "code",
   "execution_count": 20,
   "id": "878285b1-5065-42da-b2f6-0fa9e6212233",
   "metadata": {},
   "outputs": [
    {
     "data": {
      "text/plain": [
       "['Date', 'Close', 'High', 'Low', 'Open', 'Volume']"
      ]
     },
     "execution_count": 20,
     "metadata": {},
     "output_type": "execute_result"
    }
   ],
   "source": [
    "# Renomeando coluna\n",
    "df_spark = df_spark.withColumnRenamed('Adj Close', 'Adj_Close').withColumnRenamed('Price', 'Date')\n",
    "df_spark.columns"
   ]
  },
  {
   "cell_type": "markdown",
   "id": "e15a9831-6e6d-4efb-a349-395abc240886",
   "metadata": {},
   "source": [
    "### DATA TRANSFORMATION"
   ]
  },
  {
   "cell_type": "code",
   "execution_count": 21,
   "id": "220f5bef-ce1f-4c0b-b52e-13268af27dae",
   "metadata": {},
   "outputs": [
    {
     "name": "stdout",
     "output_type": "stream",
     "text": [
      "+----------+------------------+------------------+------------------+\n",
      "|      Date|              Open|               Low|              High|\n",
      "+----------+------------------+------------------+------------------+\n",
      "|    Ticker|           BTC-USD|           BTC-USD|           BTC-USD|\n",
      "|2014-09-17|  465.864013671875| 452.4219970703125|468.17401123046875|\n",
      "|2014-09-18| 456.8599853515625|   413.10400390625| 456.8599853515625|\n",
      "|2014-09-19| 424.1029968261719| 384.5320129394531| 427.8349914550781|\n",
      "|2014-09-20| 394.6730041503906|389.88299560546875| 423.2959899902344|\n",
      "|2014-09-21| 408.0849914550781| 393.1809997558594| 412.4259948730469|\n",
      "|2014-09-22| 399.1000061035156| 397.1300048828125| 406.9159851074219|\n",
      "|2014-09-23| 402.0920104980469| 396.1969909667969| 441.5570068359375|\n",
      "|2014-09-24| 435.7510070800781| 421.1319885253906|436.11199951171875|\n",
      "|2014-09-25|  423.156005859375| 409.4679870605469| 423.5199890136719|\n",
      "|2014-09-26| 411.4289855957031| 400.0090026855469|   414.93798828125|\n",
      "|2014-09-27| 403.5559997558594|397.37200927734375|406.62298583984375|\n",
      "|2014-09-28|399.47100830078125| 374.3320007324219| 401.0169982910156|\n",
      "|2014-09-29| 376.9280090332031|  372.239990234375|385.21099853515625|\n",
      "|2014-09-30| 376.0880126953125| 373.4429931640625|390.97698974609375|\n",
      "|2014-10-01|  387.427001953125| 380.7799987792969| 391.3789978027344|\n",
      "|2014-10-02| 383.9880065917969| 372.9460144042969|385.49700927734375|\n",
      "|2014-10-03| 375.1809997558594| 357.8590087890625|377.69500732421875|\n",
      "|2014-10-04| 359.8919982910156|  325.885986328125|364.48699951171875|\n",
      "|2014-10-05| 328.9159851074219| 289.2959899902344| 341.8009948730469|\n",
      "+----------+------------------+------------------+------------------+\n",
      "only showing top 20 rows\n",
      "\n"
     ]
    }
   ],
   "source": [
    "# Usando select() para retornar colunas específicas\n",
    "df_spark.select('Date', 'Open', 'Low', 'High').show()"
   ]
  },
  {
   "cell_type": "code",
   "execution_count": 22,
   "id": "7da3a741-fedc-4303-8ff6-dd0ab4ed8520",
   "metadata": {},
   "outputs": [
    {
     "name": "stdout",
     "output_type": "stream",
     "text": [
      "+----------+------------------+------------------+------------------+------------------+--------+------------------+\n",
      "|      Date|             Close|              High|               Low|              Open|  Volume|          High-Low|\n",
      "+----------+------------------+------------------+------------------+------------------+--------+------------------+\n",
      "|    Ticker|           BTC-USD|           BTC-USD|           BTC-USD|           BTC-USD| BTC-USD|              NULL|\n",
      "|2014-09-17| 457.3340148925781|468.17401123046875| 452.4219970703125|  465.864013671875|21056800| 15.75201416015625|\n",
      "|2014-09-18|424.44000244140625| 456.8599853515625|   413.10400390625| 456.8599853515625|34483200|  43.7559814453125|\n",
      "|2014-09-19| 394.7959899902344| 427.8349914550781| 384.5320129394531| 424.1029968261719|37919700|   43.302978515625|\n",
      "|2014-09-20|408.90399169921875| 423.2959899902344|389.88299560546875| 394.6730041503906|36863600|33.412994384765625|\n",
      "|2014-09-21| 398.8210144042969| 412.4259948730469| 393.1809997558594| 408.0849914550781|26580100|  19.2449951171875|\n",
      "|2014-09-22| 402.1520080566406| 406.9159851074219| 397.1300048828125| 399.1000061035156|24127600| 9.785980224609375|\n",
      "|2014-09-23| 435.7909851074219| 441.5570068359375| 396.1969909667969| 402.0920104980469|45099500|45.360015869140625|\n",
      "|2014-09-24| 423.2049865722656|436.11199951171875| 421.1319885253906| 435.7510070800781|30627700|14.980010986328125|\n",
      "|2014-09-25| 411.5740051269531| 423.5199890136719| 409.4679870605469|  423.156005859375|26814400|   14.052001953125|\n",
      "|2014-09-26|404.42498779296875|   414.93798828125| 400.0090026855469| 411.4289855957031|21460800|14.928985595703125|\n",
      "|2014-09-27| 399.5199890136719|406.62298583984375|397.37200927734375| 403.5559997558594|15029300|      9.2509765625|\n",
      "|2014-09-28| 377.1809997558594| 401.0169982910156| 374.3320007324219|399.47100830078125|23613300| 26.68499755859375|\n",
      "|2014-09-29| 375.4670104980469|385.21099853515625|  372.239990234375| 376.9280090332031|32497700| 12.97100830078125|\n",
      "|2014-09-30| 386.9440002441406|390.97698974609375| 373.4429931640625| 376.0880126953125|34707300| 17.53399658203125|\n",
      "|2014-10-01|  383.614990234375| 391.3789978027344| 380.7799987792969|  387.427001953125|26229400|  10.5989990234375|\n",
      "|2014-10-02| 375.0719909667969|385.49700927734375| 372.9460144042969| 383.9880065917969|21777700|12.550994873046875|\n",
      "|2014-10-03| 359.5119934082031|377.69500732421875| 357.8590087890625| 375.1809997558594|30901200| 19.83599853515625|\n",
      "|2014-10-04| 328.8659973144531|364.48699951171875|  325.885986328125| 359.8919982910156|47236500| 38.60101318359375|\n",
      "|2014-10-05|  320.510009765625| 341.8009948730469| 289.2959899902344| 328.9159851074219|83308096|  52.5050048828125|\n",
      "+----------+------------------+------------------+------------------+------------------+--------+------------------+\n",
      "only showing top 20 rows\n",
      "\n"
     ]
    }
   ],
   "source": [
    "# Criando uma nova coluna com a diferença entre a alta e a baixa\n",
    "df_spark.withColumn('High-Low', col(\"High\") - col(\"Low\")).show()"
   ]
  },
  {
   "cell_type": "markdown",
   "id": "c77084e4-ea7b-44c2-bfdb-9d855478d8f3",
   "metadata": {},
   "source": [
    "### Verificando as Datas de Transações"
   ]
  },
  {
   "cell_type": "code",
   "execution_count": 28,
   "id": "382238a8-465e-49eb-beed-f70e8b1fce05",
   "metadata": {},
   "outputs": [],
   "source": [
    "# Registra o DataFrame como uma tabela temporária\n",
    "df_spark.createOrReplaceTempView(\"tabela_datas\")"
   ]
  },
  {
   "cell_type": "code",
   "execution_count": 31,
   "id": "a050bf13-05fa-46ac-88e4-ead2892fe4e9",
   "metadata": {},
   "outputs": [
    {
     "name": "stdout",
     "output_type": "stream",
     "text": [
      "+-------------------+-----------------+\n",
      "|Primeira_Negociacao|Ultima_Negociacao|\n",
      "+-------------------+-----------------+\n",
      "|         2014-09-17|       2024-12-31|\n",
      "+-------------------+-----------------+\n",
      "\n"
     ]
    }
   ],
   "source": [
    "data_amplitude = spark_session.sql(\n",
    "    \"\"\"\n",
    "        SELECT \n",
    "            MIN(DATE(Date)) AS Primeira_Negociacao,\n",
    "            MAX(DATE(Date)) AS Ultima_Negociacao\n",
    "        FROM\n",
    "            tabela_datas\n",
    "    \"\"\")\n",
    "\n",
    "data_amplitude.show()"
   ]
  },
  {
   "cell_type": "code",
   "execution_count": 66,
   "id": "ee62f471-ae31-4fab-a682-6c929ca07873",
   "metadata": {},
   "outputs": [
    {
     "name": "stdout",
     "output_type": "stream",
     "text": [
      "+----------+------------------+------------------+------------------+------------------+--------+\n",
      "|      Date|             Close|              High|               Low|              Open|  Volume|\n",
      "+----------+------------------+------------------+------------------+------------------+--------+\n",
      "|2014-09-17| 457.3340148925781|468.17401123046875| 452.4219970703125|  465.864013671875|21056800|\n",
      "|2014-09-18|424.44000244140625| 456.8599853515625|   413.10400390625| 456.8599853515625|34483200|\n",
      "|2014-09-19| 394.7959899902344| 427.8349914550781| 384.5320129394531| 424.1029968261719|37919700|\n",
      "|2014-09-20|408.90399169921875| 423.2959899902344|389.88299560546875| 394.6730041503906|36863600|\n",
      "|2014-09-21| 398.8210144042969| 412.4259948730469| 393.1809997558594| 408.0849914550781|26580100|\n",
      "|2014-09-22| 402.1520080566406| 406.9159851074219| 397.1300048828125| 399.1000061035156|24127600|\n",
      "|2014-09-23| 435.7909851074219| 441.5570068359375| 396.1969909667969| 402.0920104980469|45099500|\n",
      "|2014-09-24| 423.2049865722656|436.11199951171875| 421.1319885253906| 435.7510070800781|30627700|\n",
      "|2014-09-25| 411.5740051269531| 423.5199890136719| 409.4679870605469|  423.156005859375|26814400|\n",
      "|2014-09-26|404.42498779296875|   414.93798828125| 400.0090026855469| 411.4289855957031|21460800|\n",
      "|2014-09-28| 377.1809997558594| 401.0169982910156| 374.3320007324219|399.47100830078125|23613300|\n",
      "|2014-09-29| 375.4670104980469|385.21099853515625|  372.239990234375| 376.9280090332031|32497700|\n",
      "|2014-09-30| 386.9440002441406|390.97698974609375| 373.4429931640625| 376.0880126953125|34707300|\n",
      "|2014-10-01|  383.614990234375| 391.3789978027344| 380.7799987792969|  387.427001953125|26229400|\n",
      "|2014-10-02| 375.0719909667969|385.49700927734375| 372.9460144042969| 383.9880065917969|21777700|\n",
      "|2014-10-03| 359.5119934082031|377.69500732421875| 357.8590087890625| 375.1809997558594|30901200|\n",
      "|2014-10-04| 328.8659973144531|364.48699951171875|  325.885986328125| 359.8919982910156|47236500|\n",
      "|2014-10-05|  320.510009765625| 341.8009948730469| 289.2959899902344| 328.9159851074219|83308096|\n",
      "|2014-10-06| 330.0790100097656| 345.1340026855469|302.55999755859375| 320.3890075683594|79011800|\n",
      "|2014-10-07|   336.18701171875|339.24700927734375|320.48199462890625| 330.5840148925781|49199900|\n",
      "+----------+------------------+------------------+------------------+------------------+--------+\n",
      "only showing top 20 rows\n",
      "\n"
     ]
    }
   ],
   "source": [
    "# Filtrando os dados de volumes de transações acima de de 20 milhões.\n",
    "df_spark.filter(df_spark['Volume'] > 20000000).show()"
   ]
  },
  {
   "cell_type": "code",
   "execution_count": 7,
   "id": "128f8661-2e41-4cf2-a268-f6994f4eac78",
   "metadata": {},
   "outputs": [
    {
     "ename": "NameError",
     "evalue": "name 'df_spark' is not defined",
     "output_type": "error",
     "traceback": [
      "\u001b[0;31m---------------------------------------------------------------------------\u001b[0m",
      "\u001b[0;31mNameError\u001b[0m                                 Traceback (most recent call last)",
      "Cell \u001b[0;32mIn[7], line 1\u001b[0m\n\u001b[0;32m----> 1\u001b[0m \u001b[43mdf_spark\u001b[49m\u001b[38;5;241m.\u001b[39mstop\n",
      "\u001b[0;31mNameError\u001b[0m: name 'df_spark' is not defined"
     ]
    }
   ],
   "source": [
    "# Finalize a sessão spark antes de começar outra.\n",
    "df_spark.stop"
   ]
  }
 ],
 "metadata": {
  "kernelspec": {
   "display_name": "Python 3 (ipykernel)",
   "language": "python",
   "name": "python3"
  },
  "language_info": {
   "codemirror_mode": {
    "name": "ipython",
    "version": 3
   },
   "file_extension": ".py",
   "mimetype": "text/x-python",
   "name": "python",
   "nbconvert_exporter": "python",
   "pygments_lexer": "ipython3",
   "version": "3.13.1"
  }
 },
 "nbformat": 4,
 "nbformat_minor": 5
}
